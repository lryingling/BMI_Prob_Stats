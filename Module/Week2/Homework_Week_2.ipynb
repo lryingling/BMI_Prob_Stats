{
 "cells": [
  {
   "cell_type": "markdown",
   "metadata": {},
   "source": [
    "## Homework"
   ]
  },
  {
   "cell_type": "markdown",
   "metadata": {},
   "source": [
    "### 1. History of Probability\n",
    "It is said that de Mere had been betting that, in four rolls of a die, at least one six would turn up. He was winning consistently and, to get more people to play, he changed the game to bet that, in 24 rolls of two dice, a pair of sixes would turn up. It is claimed that de Mere lost with 24 and felt that 25 rolls were necessary to make the game favorable. It was un grand scandale that mathematics was wrong."
   ]
  },
  {
   "cell_type": "code",
   "execution_count": 15,
   "metadata": {
    "collapsed": true
   },
   "outputs": [],
   "source": [
    "# function to sample from die\n",
    "rolldie = function(n) {\n",
    "    sample(1:6, n, rep = T)\n",
    "}"
   ]
  },
  {
   "cell_type": "code",
   "execution_count": 16,
   "metadata": {
    "collapsed": true
   },
   "outputs": [],
   "source": [
    "#function to tally success of rolling a double six\n",
    "doublesix = function(n){\n",
    "    rolls = rolldie(n)\n",
    "    rollone = rolls\n",
    "    rolltwo = rolls\n",
    "    match6 = sum(rollone == 6 & rolltwo == 6) #tallying the number of times rollone = rolltwo\n",
    "    nonmatch= rolls - match6\n",
    "    return(match6)\n",
    "}"
   ]
  },
  {
   "cell_type": "code",
   "execution_count": 19,
   "metadata": {
    "scrolled": true
   },
   "outputs": [
    {
     "data": {
      "text/html": [
       "1"
      ],
      "text/latex": [
       "1"
      ],
      "text/markdown": [
       "1"
      ],
      "text/plain": [
       "[1] 1"
      ]
     },
     "metadata": {},
     "output_type": "display_data"
    },
    {
     "data": {
      "text/html": [
       "10"
      ],
      "text/latex": [
       "10"
      ],
      "text/markdown": [
       "10"
      ],
      "text/plain": [
       "[1] 10"
      ]
     },
     "metadata": {},
     "output_type": "display_data"
    },
    {
     "data": {
      "text/html": [
       "164"
      ],
      "text/latex": [
       "164"
      ],
      "text/markdown": [
       "164"
      ],
      "text/plain": [
       "[1] 164"
      ]
     },
     "metadata": {},
     "output_type": "display_data"
    },
    {
     "data": {
      "text/html": [
       "1643"
      ],
      "text/latex": [
       "1643"
      ],
      "text/markdown": [
       "1643"
      ],
      "text/plain": [
       "[1] 1643"
      ]
     },
     "metadata": {},
     "output_type": "display_data"
    }
   ],
   "source": [
    "doublesix(10)\n",
    "doublesix(100)\n",
    "doublesix(1000)\n",
    "doublesix(10000) #10,000 trials"
   ]
  },
  {
   "cell_type": "code",
   "execution_count": 20,
   "metadata": {
    "collapsed": true
   },
   "outputs": [],
   "source": [
    "#function to calculate probability of rolling double sixes\n",
    "probdouble6 = function(n) {\n",
    "    probsuccess = (1/6)*(1/6)\n",
    "    probfailure = 1 - probsuccess\n",
    "    probdoublesixrolls = 1 - probfailure^(n)\n",
    "    return(probdoublesixrolls)\n",
    "}"
   ]
  },
  {
   "cell_type": "code",
   "execution_count": 22,
   "metadata": {},
   "outputs": [
    {
     "data": {
      "text/html": [
       "0.491403876130903"
      ],
      "text/latex": [
       "0.491403876130903"
      ],
      "text/markdown": [
       "0.491403876130903"
      ],
      "text/plain": [
       "[1] 0.4914039"
      ]
     },
     "metadata": {},
     "output_type": "display_data"
    },
    {
     "data": {
      "text/html": [
       "0.505531546238378"
      ],
      "text/latex": [
       "0.505531546238378"
      ],
      "text/markdown": [
       "0.505531546238378"
      ],
      "text/plain": [
       "[1] 0.5055315"
      ]
     },
     "metadata": {},
     "output_type": "display_data"
    }
   ],
   "source": [
    "probdouble6(24)\n",
    "probdouble6(25)"
   ]
  },
  {
   "cell_type": "markdown",
   "metadata": {},
   "source": [
    "## 2. Addition rule\n",
    "\n",
    "#### Find the probabilities using the table\n",
    "\n",
    "\n",
    "> 1. Type O or AB.\n",
    "\n",
    "> 2. Type A or AB.\n",
    "\n",
    "> 3. Type AB or Rh negative. \n",
    "\n",
    "> 4. Type O and Negative. \n",
    "\n",
    "> 5. Type AB"
   ]
  },
  {
   "cell_type": "markdown",
   "metadata": {},
   "source": [
    "|Type     |O    |A    |B    |AB |Total |\n",
    "|:--------|:----|:----|:---------|:-------|:-----|\n",
    "|Positive |163  |662  |1513      |1603    |3941  |\n",
    "|Negative |224  |933  |2400      |2337    |5894  |\n",
    "|Total    |387  |1595 |3913      |3940    |9835  |\n"
   ]
  },
  {
   "cell_type": "code",
   "execution_count": 23,
   "metadata": {},
   "outputs": [
    {
     "data": {
      "text/html": [
       "0.0393492628368073"
      ],
      "text/latex": [
       "0.0393492628368073"
      ],
      "text/markdown": [
       "0.0393492628368073"
      ],
      "text/plain": [
       "[1] 0.03934926"
      ]
     },
     "metadata": {},
     "output_type": "display_data"
    }
   ],
   "source": [
    "typeO = 387/9835\n",
    "typeO"
   ]
  },
  {
   "cell_type": "code",
   "execution_count": 24,
   "metadata": {},
   "outputs": [
    {
     "data": {
      "text/html": [
       "0.562785968479919"
      ],
      "text/latex": [
       "0.562785968479919"
      ],
      "text/markdown": [
       "0.562785968479919"
      ],
      "text/plain": [
       "[1] 0.562786"
      ]
     },
     "metadata": {},
     "output_type": "display_data"
    }
   ],
   "source": [
    "typeAorAB = 1595/9835 + 3940/9835\n",
    "typeAorAB"
   ]
  },
  {
   "cell_type": "code",
   "execution_count": 25,
   "metadata": {},
   "outputs": [
    {
     "data": {
      "text/html": [
       "0.762277580071174"
      ],
      "text/latex": [
       "0.762277580071174"
      ],
      "text/markdown": [
       "0.762277580071174"
      ],
      "text/plain": [
       "[1] 0.7622776"
      ]
     },
     "metadata": {},
     "output_type": "display_data"
    }
   ],
   "source": [
    "typeABorRhNeg = 3940/9835 + 5894/9835 - 2337/9835\n",
    "typeABorRhNeg"
   ]
  },
  {
   "cell_type": "code",
   "execution_count": 27,
   "metadata": {},
   "outputs": [
    {
     "data": {
      "text/html": [
       "0.0227758007117438"
      ],
      "text/latex": [
       "0.0227758007117438"
      ],
      "text/markdown": [
       "0.0227758007117438"
      ],
      "text/plain": [
       "[1] 0.0227758"
      ]
     },
     "metadata": {},
     "output_type": "display_data"
    }
   ],
   "source": [
    "typeOandRhNeg = 224/9835\n",
    "typeOandRhNeg"
   ]
  },
  {
   "cell_type": "code",
   "execution_count": 29,
   "metadata": {},
   "outputs": [
    {
     "data": {
      "text/html": [
       "0.400610066090493"
      ],
      "text/latex": [
       "0.400610066090493"
      ],
      "text/markdown": [
       "0.400610066090493"
      ],
      "text/plain": [
       "[1] 0.4006101"
      ]
     },
     "metadata": {},
     "output_type": "display_data"
    }
   ],
   "source": [
    "typeAB = 3940/9835\n",
    "typeAB"
   ]
  },
  {
   "cell_type": "markdown",
   "metadata": {},
   "source": [
    "### 3. Multiplication Rule\n",
    "\n",
    "##### From this exercises: If I roll 5 dice, what is the chance of getting all sixes? What is the chance of getting no sixes?\n",
    "\n",
    "Write a simulation in R to obtain the probabilities for each of these two exercises running 10000 trials\n",
    "\n",
    "Hint.\n",
    "\n",
    "Remember that the change to get all 6 in 5 rolls is $(1/6)^5$\n",
    "\n",
    "and to get no sixes is $(5/6)^5$\n"
   ]
  },
  {
   "cell_type": "code",
   "execution_count": 73,
   "metadata": {
    "collapsed": true
   },
   "outputs": [],
   "source": [
    "allsix <- function(){  #creating function to determine if we get all sixes\n",
    "    firstroll = rolldie(1) #getting the number from the first roll using roll die funtion\n",
    "    secondroll = rolldie(1)\n",
    "    thirdroll = rolldie(1)\n",
    "    fourthroll = rolldie(1)\n",
    "    fifthroll = rolldie(1)\n",
    "    all6 = sum(firstroll == 6 & secondroll == 6 & thirdroll == 6 & fourthroll == 6 & fifthroll == 6)\n",
    "    return(all6) #adding all the occurrences where all five rolls = 6\n",
    "    }"
   ]
  },
  {
   "cell_type": "code",
   "execution_count": 74,
   "metadata": {},
   "outputs": [
    {
     "data": {
      "text/html": [
       "1"
      ],
      "text/latex": [
       "1"
      ],
      "text/markdown": [
       "1"
      ],
      "text/plain": [
       "[1] 1"
      ]
     },
     "metadata": {},
     "output_type": "display_data"
    }
   ],
   "source": [
    "trials = 10000\n",
    "runtrials = sum(replicate(trials, expr = allsix())) #running the all six function over 10,000 trials and tallying the occurences of all sixes\n",
    "return(runtrials)"
   ]
  },
  {
   "cell_type": "code",
   "execution_count": 75,
   "metadata": {},
   "outputs": [
    {
     "name": "stdout",
     "output_type": "stream",
     "text": [
      "Probability from Above Experiment: \n",
      "1e-04\n",
      "Calculated Probability: \n",
      "0.0001286008\n"
     ]
    }
   ],
   "source": [
    "test_proballsix = runtrials/trials  #calculating the probability from the experiment run above\n",
    "calc_proballsix = (1/6)^5 #calculating the actual probability\n",
    "cat(\"Probability from Above Experiment: \", (test_proballsix), sep=\"\\n\")\n",
    "cat(\"Calculated Probability: \", (calc_proballsix), sep=\"\\n\")"
   ]
  },
  {
   "cell_type": "code",
   "execution_count": 76,
   "metadata": {
    "collapsed": true
   },
   "outputs": [],
   "source": [
    "nosix <- function(){  #creating function to determine if we get all sixes\n",
    "    firstroll = rolldie(1) #getting the number from the first roll using roll die funtion\n",
    "    secondroll = rolldie(1)\n",
    "    thirdroll = rolldie(1)\n",
    "    fourthroll = rolldie(1)\n",
    "    fifthroll = rolldie(1)\n",
    "    no6 = sum(firstroll != 6 & secondroll != 6 & thirdroll != 6 & fourthroll != 6 & fifthroll != 6)\n",
    "    return(no6) #adding all the occurrences where all five rolls do not have a 6 occuring\n",
    "    }"
   ]
  },
  {
   "cell_type": "code",
   "execution_count": 77,
   "metadata": {},
   "outputs": [
    {
     "data": {
      "text/html": [
       "1"
      ],
      "text/latex": [
       "1"
      ],
      "text/markdown": [
       "1"
      ],
      "text/plain": [
       "[1] 1"
      ]
     },
     "metadata": {},
     "output_type": "display_data"
    }
   ],
   "source": [
    "nosix()"
   ]
  },
  {
   "cell_type": "code",
   "execution_count": 78,
   "metadata": {},
   "outputs": [
    {
     "data": {
      "text/html": [
       "4030"
      ],
      "text/latex": [
       "4030"
      ],
      "text/markdown": [
       "4030"
      ],
      "text/plain": [
       "[1] 4030"
      ]
     },
     "metadata": {},
     "output_type": "display_data"
    }
   ],
   "source": [
    "trials2 = 10000\n",
    "runtrials2 = sum(replicate(trials2, expr = nosix())) #running the all six function over 10,000 trials and tallying the occurences of all sixes\n",
    "return(runtrials2)"
   ]
  },
  {
   "cell_type": "code",
   "execution_count": 79,
   "metadata": {},
   "outputs": [
    {
     "name": "stdout",
     "output_type": "stream",
     "text": [
      "Probability from Above Experiment: \n",
      "0.403\n",
      "Calculated Probability: \n",
      "0.4018776\n"
     ]
    }
   ],
   "source": [
    "test_probnosix = runtrials2/trials2  #calculating the probability from the experiment run above\n",
    "calc_probnosix = (5/6)^5 #calculating the actual probability\n",
    "cat(\"Probability from Above Experiment: \", test_probnosix, sep=\"\\n\")\n",
    "\n",
    "cat(\"Calculated Probability: \", calc_probnosix, sep=\"\\n\")"
   ]
  },
  {
   "cell_type": "markdown",
   "metadata": {},
   "source": [
    "### 4. Conditional Probability\n",
    "\n",
    "Consider a family that has three children. We are interested in the children's genders. Our sample space is S={(G,G,G),(G,G,B),(G,B,G),(G,B,B),(B,G,G),(B,G,B),(B,B,G),(B,B,B)}. Also assume that all eight possible outcomes are equally likely.\n",
    "\n",
    "1. What is the probability that the three children are girls given that the first child is a girl?\n",
    "\n",
    "2. What is the probability that At least two children are boys given that the first child is a boy?"
   ]
  },
  {
   "cell_type": "markdown",
   "metadata": {
    "collapsed": true
   },
   "source": [
    "1. 1/4\n",
    "2. 3/4"
   ]
  }
 ],
 "metadata": {
  "kernelspec": {
   "display_name": "R",
   "language": "R",
   "name": "ir"
  },
  "language_info": {
   "codemirror_mode": "r",
   "file_extension": ".r",
   "mimetype": "text/x-r-source",
   "name": "R",
   "pygments_lexer": "r",
   "version": "3.3.2"
  }
 },
 "nbformat": 4,
 "nbformat_minor": 2
}
